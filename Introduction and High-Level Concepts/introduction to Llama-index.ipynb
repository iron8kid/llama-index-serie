{
 "cells": [
  {
   "cell_type": "markdown",
   "metadata": {},
   "source": [
    "# LLama-index: Introduction and High-Level Concepts"
   ]
  },
  {
   "cell_type": "markdown",
   "metadata": {},
   "source": [
    "This demo showcases **Retrieval Augmented Generation** (RAG) following stages (*loading, indexing, storing, querying*) with **llama-index** over Wikipedia's article on Twitter.\n",
    "\n",
    "\n",
    "![RAG stages](stages.png) "
   ]
  },
  {
   "cell_type": "markdown",
   "metadata": {},
   "source": [
    "## Initialization"
   ]
  },
  {
   "cell_type": "markdown",
   "metadata": {},
   "source": [
    "Install Llama-index with pip:"
   ]
  },
  {
   "cell_type": "code",
   "execution_count": null,
   "metadata": {},
   "outputs": [],
   "source": [
    "!pip install llama-index"
   ]
  },
  {
   "cell_type": "markdown",
   "metadata": {},
   "source": [
    "Set your OpenAI API key"
   ]
  },
  {
   "cell_type": "code",
   "execution_count": null,
   "metadata": {},
   "outputs": [],
   "source": [
    "import os\n",
    "import openai\n",
    "\n",
    "os.environ[\"OPENAI_API_KEY\"] = \"sk-...\"   # Add your OpenAi API key here\n",
    "openai.api_key = os.environ[\"OPENAI_API_KEY\"]"
   ]
  },
  {
   "cell_type": "markdown",
   "metadata": {},
   "source": [
    "## Loading data"
   ]
  },
  {
   "cell_type": "markdown",
   "metadata": {},
   "source": [
    "In this section, the Wikipedia article on Twitter will be downloaded and saved in a .txt file. Subsequently, it will be loaded using the **SimpleDirectoryReader** function."
   ]
  },
  {
   "cell_type": "code",
   "execution_count": 2,
   "metadata": {},
   "outputs": [],
   "source": [
    "# Downloading the article and saving it in the `/data` directory.\n",
    "from pathlib import Path\n",
    "import requests\n",
    "response = requests.get(\n",
    "        \"https://en.wikipedia.org/w/api.php\",\n",
    "        params={\n",
    "            \"action\": \"query\",\n",
    "            \"format\": \"json\",\n",
    "            \"titles\": 'Twitter',\n",
    "            \"prop\": \"extracts\",\n",
    "            # 'exintro': True,\n",
    "            \"explaintext\": True,\n",
    "        },\n",
    "    ).json()\n",
    "page = next(iter(response[\"query\"][\"pages\"].values()))\n",
    "wiki_text = page[\"extract\"]\n",
    "\n",
    "data_path = Path(\"data\")\n",
    "if not data_path.exists():\n",
    "        Path.mkdir(data_path)\n",
    "\n",
    "with open(data_path / f\"Twitter.txt\", \"w\") as fp:\n",
    "        fp.write(wiki_text)"
   ]
  },
  {
   "cell_type": "code",
   "execution_count": 3,
   "metadata": {},
   "outputs": [],
   "source": [
    "#  Loading files in `/data` directory. \n",
    "from llama_index import SimpleDirectoryReader\n",
    "\n",
    "#  this function will return a list of Document objects\n",
    "documents = SimpleDirectoryReader(\"data\").load_data()"
   ]
  },
  {
   "cell_type": "markdown",
   "metadata": {},
   "source": [
    "## Indexing"
   ]
  },
  {
   "cell_type": "markdown",
   "metadata": {},
   "source": [
    "In this section, indexes will be created from the previously generated documents by instantiating **VectorStoreIndex**."
   ]
  },
  {
   "cell_type": "code",
   "execution_count": 4,
   "metadata": {},
   "outputs": [],
   "source": [
    "from llama_index import VectorStoreIndex\n",
    "index = VectorStoreIndex.from_documents(documents)\n"
   ]
  },
  {
   "cell_type": "markdown",
   "metadata": {},
   "source": [
    "## Storing"
   ]
  },
  {
   "cell_type": "markdown",
   "metadata": {},
   "source": [
    "Now that the indexes have been created, they will be stored for future use. then reloaded for demonstration purposes."
   ]
  },
  {
   "cell_type": "code",
   "execution_count": null,
   "metadata": {},
   "outputs": [],
   "source": [
    "from llama_index import (\n",
    "    StorageContext,\n",
    "    load_index_from_storage,\n",
    ")\n",
    "\n",
    "index.storage_context.persist('data/index')\n",
    "storage_context = StorageContext.from_defaults(persist_dir='data/index')\n",
    "index = load_index_from_storage(storage_context)\n"
   ]
  },
  {
   "cell_type": "markdown",
   "metadata": {},
   "source": [
    "## Querying"
   ]
  },
  {
   "cell_type": "markdown",
   "metadata": {},
   "source": [
    "\n",
    "For this purpose, the OpenAI GPT-3.5-turbo model will be utilized."
   ]
  },
  {
   "cell_type": "code",
   "execution_count": null,
   "metadata": {},
   "outputs": [],
   "source": [
    "from llama_index.llms import OpenAI\n",
    "llm=OpenAI(model='gpt-3.5-turbo')"
   ]
  },
  {
   "cell_type": "markdown",
   "metadata": {},
   "source": [
    "\n",
    "Before querying the model using the indexes, let's initially prompt the model about social media X. \n",
    "\n",
    "Subsequently, we will employ the same prompt, but this time utilizing the generated indexes."
   ]
  },
  {
   "cell_type": "code",
   "execution_count": 15,
   "metadata": {},
   "outputs": [
    {
     "name": "stdout",
     "output_type": "stream",
     "text": [
      "assistant: Social media X is a hypothetical social media platform that does not exist in reality. As such, there is no specific information available about its features, purpose, or user base. However, we can discuss some general aspects of social media platforms.\n",
      "\n",
      "Social media platforms are online platforms that allow users to create and share content, connect with others, and engage in various activities. They have become an integral part of modern communication and have revolutionized the way people interact and share information.\n",
      "\n",
      "Typically, social media platforms offer features such as creating a profile, posting updates, sharing photos and videos, following other users, and engaging in conversations through comments and direct messages. They also provide tools for liking, sharing, and reposting content, which helps in spreading information quickly.\n",
      "\n",
      "Social media platforms can be used for various purposes, including personal networking, professional networking, content creation, entertainment, news consumption, and marketing. They have also played a significant role in promoting social causes, raising awareness, and mobilizing communities.\n",
      "\n",
      "Some popular social media platforms include Facebook, Instagram, Twitter, LinkedIn, Snapchat, and TikTok. Each platform has its own unique features and target audience, catering to different interests and demographics.\n",
      "\n",
      "It is important to note that the information provided here is based on general knowledge about social media platforms and not specific to social media X, as it does not exist.\n"
     ]
    }
   ],
   "source": [
    "from llama_index.llms import ChatMessage\n",
    "\n",
    "messages = [\n",
    "    ChatMessage(role=\"user\", content=\"tell me about the social media X\"),\n",
    "]\n",
    "resp = llm.chat(messages)\n",
    "print(resp)"
   ]
  },
  {
   "cell_type": "code",
   "execution_count": 14,
   "metadata": {},
   "outputs": [
    {
     "name": "stdout",
     "output_type": "stream",
     "text": [
      "X is a social media website that was formerly known as Twitter. It is based in the United States and is one of the largest social networks in the world, with over 500 million users. Users can share text messages, images, and videos called \"tweets\" on the platform. X also offers features such as direct messaging, video and audio calling, bookmarks, lists and communities, and Spaces, which is a social audio feature. The platform allows users to vote on context added by approved users using the Community Notes feature. X is owned by X Corp., which is the successor of Twitter, Inc. The service was originally created in 2006 by Jack Dorsey, Noah Glass, Biz Stone, and Evan Williams. It gained popularity for its requirement of brief message posts, initially limited to 140 characters and later expanded to 280 characters. X has faced criticism for the spread of disinformation and hate speech, but it has also been praised for its approach to content moderation. The platform was acquired by Elon Musk in 2022 and later rebranded as X.\n"
     ]
    }
   ],
   "source": [
    "query_engine = index.as_query_engine(llm=llm)\n",
    "response = query_engine.query(\"tell me about the soacial media X\")\n",
    "print(response)"
   ]
  },
  {
   "cell_type": "markdown",
   "metadata": {},
   "source": [
    "As demonstrated in the results, initially, the model's answer was not accurate. However, after providing context through the indexes, the model successfully recognized X."
   ]
  },
  {
   "cell_type": "markdown",
   "metadata": {},
   "source": [
    "## conclusion"
   ]
  },
  {
   "cell_type": "markdown",
   "metadata": {},
   "source": [
    "This notebook provides an overview of the key concepts surrounding LLama-index and Retrieval-Augmented Generation (RAG). It demonstrates how it enables the model to answer questions about unseen data without the need for retraining.\n"
   ]
  }
 ],
 "metadata": {
  "kernelspec": {
   "display_name": "genai",
   "language": "python",
   "name": "python3"
  },
  "language_info": {
   "codemirror_mode": {
    "name": "ipython",
    "version": 3
   },
   "file_extension": ".py",
   "mimetype": "text/x-python",
   "name": "python",
   "nbconvert_exporter": "python",
   "pygments_lexer": "ipython3",
   "version": "3.10.13"
  }
 },
 "nbformat": 4,
 "nbformat_minor": 2
}
